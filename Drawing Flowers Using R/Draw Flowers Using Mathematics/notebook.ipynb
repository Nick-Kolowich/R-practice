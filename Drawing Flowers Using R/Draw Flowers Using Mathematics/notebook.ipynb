{
 "cells": [
  {
   "cell_type": "markdown",
   "metadata": {
    "dc": {
     "key": "4"
    },
    "deletable": false,
    "editable": false,
    "run_control": {
     "frozen": true
    },
    "tags": [
     "context"
    ]
   },
   "source": [
    "## 1. Patterns in nature\n",
    "<p><img style=\"float: left;margin:2px 2px 2px 2px\" src=\"https://assets.datacamp.com/production/project_62/img/phyllotaxis2.png\" height=\"300\" width=\"300\">  </p>\n",
    "<p><em>\"The scientist does not study nature because it is useful; he studies it because he delights in it, and he delights in it because it is beautiful.\" (Henri Poincaré)</em></p>\n",
    "<p>There are many examples of <em>natural facts</em> that can be described in mathematical terms. Nice examples are the shape of snowflakes, the <em>fractal geometry</em> of romanesco broccoli or how self-similarity rules the growth of plants.</p>\n",
    "<p>R is a tool for doing serious analysis, but not everything in life is serious. Life is also funny, and R can be used to have fun and to do beautiful things. Its graphical power can be used to produce artistic images like the one that illustrates this section, which is inspired by how plants arrange their leaves. This fact is called <em>phyllotaxis</em> and will serve as the basis of this project.</p>\n",
    "<p>In this notebook, we are using the <code>ggplot2</code> package. Apart from having fun, we will learn many important features of it that will be useful not only to do art but also to represent data in real-life problems. Let's start by loading the library.</p>"
   ]
  },
  {
   "cell_type": "code",
   "execution_count": 1,
   "metadata": {
    "ExecuteTime": {
     "end_time": "2021-02-23T21:19:29.152347Z",
     "start_time": "2021-02-23T21:19:28.248Z"
    },
    "dc": {
     "key": "4"
    },
    "tags": [
     "sample_code"
    ]
   },
   "outputs": [
    {
     "name": "stderr",
     "output_type": "stream",
     "text": [
      "Registered S3 methods overwritten by 'ggplot2':\n",
      "  method         from \n",
      "  [.quosures     rlang\n",
      "  c.quosures     rlang\n",
      "  print.quosures rlang\n"
     ]
    }
   ],
   "source": [
    "# Set plot images to a nice size\n",
    "options(repr.plot.width = 4, repr.plot.height = 4)\n",
    "\n",
    "# Load the ggplot2 package\n",
    "library(ggplot2)"
   ]
  },
  {
   "cell_type": "markdown",
   "metadata": {
    "dc": {
     "key": "12"
    },
    "deletable": false,
    "editable": false,
    "run_control": {
     "frozen": true
    },
    "tags": [
     "context"
    ]
   },
   "source": [
    "## 2. Warming up: drawing points on a circle\n",
    "<p>There are many ways to represent data with <code>ggplot2</code>: from simple scatter plots to more complex violin plots. The functions that start with <code>geom_</code> define the type of plot. In this notebook, we will only work with <code>geom_point()</code> which plots points in two dimensions. We'll need a dataset with two variables; let's call them <code>x</code> and <code>y</code>.</p>\n",
    "<p>We'll start by drawing 50 points on a circle of radius 1. As every <code>(x, y)</code> point should be in the unit circle, it follows that x² + y² = 1. We can get this using the <em>super famous</em> Pythagorean trigonometric identity which states that sin²(θ) + cos²(θ) = 1 for any real number θ.</p>"
   ]
  },
  {
   "cell_type": "code",
   "execution_count": 0,
   "metadata": {
    "dc": {
     "key": "12"
    },
    "tags": [
     "sample_code"
    ]
   },
   "outputs": [],
   "source": [
    "# Create circle data to plot\n",
    "t <- seq(0, 2*pi, length.out = 50)\n",
    "x <- sin(t)\n",
    "y <- cos(t)\n",
    "df <- data.frame(t, x, y)\n",
    "\n",
    "# Make a scatter plot of points in a circle\n",
    "p <- ggplot(df, aes(x, y))\n",
    "p + ...."
   ]
  },
  {
   "cell_type": "markdown",
   "metadata": {
    "dc": {
     "key": "19"
    },
    "deletable": false,
    "editable": false,
    "run_control": {
     "frozen": true
    },
    "tags": [
     "context"
    ]
   },
   "source": [
    "## 3. Make it harmonious with the Golden Angle\n",
    "<p>Plants arrange their leaves in spirals. A spiral is a curve which starts from the origin and <em>moves away</em> from the origin as it revolves around it. In the plot above all our points are the same distance from the origin. A simple way to arrange them in a spiral is to multiply <code>x</code> and <code>y</code> by a factor which increases for each point. We <em>could</em> use <code>t</code> as that factor, as it meets these conditions, but we will do something more <em>harmonious</em>. We will use the <a href=\"https://en.wikipedia.org/wiki/Golden_angle\">Golden Angle</a>:</p>\n",
    "<p style=\"text-align: center;\">Golden Angle = π(3 − √5)</p>\n",
    "<p>This number is inspired by the Golden Ratio, one of the most famous numbers in the history of mathematics. Imagine that you have a circumference and you break up it into two arcs with lengths <code>a</code> and <code>b</code>, with <code>a&gt;b</code> (an arc is a portion of the circumference). The angle that <em>breaks</em> the circle so that <code>a/b=(a+b)/a</code> is called the Golden Angle. In other words: the Golden Angle <em>breaks up</em> a circle so that the ratio of the big arc to the little arc is the Golden Ratio. This image (from Wikipedia) illustrates the previous definition:</p>\n",
    "<p><img src=\"https://assets.datacamp.com/production/project_62/img/Golden_Angle.png\" height=\"300\" width=\"300\"></p>\n",
    "<p>The Golden Angle is the angle subtended by the smaller (red) arc. Both the Golden Ratio and the Golden Angle appear in unexpected places in nature. Apart of flower petals and plant leaves, you'll find them in seed heads, pine cones, sunflower seeds, shells, spiral galaxies, hurricanes, etc.</p>\n",
    "<p>It's time to <em>spiralize</em>!</p>"
   ]
  },
  {
   "cell_type": "code",
   "execution_count": 0,
   "metadata": {
    "dc": {
     "key": "19"
    },
    "tags": [
     "sample_code"
    ]
   },
   "outputs": [],
   "source": [
    "# Define the number of points\n",
    "# .... YOUR CODE FOR TASK 3 ....\n",
    "\n",
    "# Define the Golden Angle\n",
    "# .... YOUR CODE FOR TASK 3 ....\n",
    "\n",
    "t <- (1:points) * angle\n",
    "x <- sin(t)\n",
    "y <-cos(t)\n",
    "df <- data.frame(t, x, y)\n",
    "\n",
    "# Make a scatter plot of points in a spiral\n",
    "p <- ggplot(df, aes(x*t, y*t))\n",
    "p + ...."
   ]
  },
  {
   "cell_type": "markdown",
   "metadata": {
    "dc": {
     "key": "26"
    },
    "deletable": false,
    "editable": false,
    "run_control": {
     "frozen": true
    },
    "tags": [
     "context"
    ]
   },
   "source": [
    "## 4. Remove everything unnecessary\n",
    "<p>Apart from data, a plot includes many other components that define its final appearance. Our previous plot contains:</p>\n",
    "<ul>\n",
    "<li>a <strong>background</strong> filled with grey color</li>\n",
    "<li>a <strong>grid</strong> of horizontal and vertical white lines</li>\n",
    "<li><strong>ticks</strong> along the axis</li>\n",
    "<li>a <strong>title</strong> on each axis</li>\n",
    "<li><strong>text</strong> along axes to label marks</li>\n",
    "</ul>\n",
    "<p>Art does not get along with most of these elements, so it's time to move to action.</p>"
   ]
  },
  {
   "cell_type": "code",
   "execution_count": 0,
   "metadata": {
    "dc": {
     "key": "26"
    },
    "tags": [
     "sample_code"
    ]
   },
   "outputs": [],
   "source": [
    "df <- data.frame(t, x, y)\n",
    "\n",
    "# Make a scatter plot of points in a spiral and remove some plot components\n",
    "p <- ggplot(df, aes(x*t, y*t))\n",
    "p + geom_point() +\n",
    "# .... YOUR CODE FOR TASK 4 ...."
   ]
  },
  {
   "cell_type": "markdown",
   "metadata": {
    "dc": {
     "key": "33"
    },
    "deletable": false,
    "editable": false,
    "run_control": {
     "frozen": true
    },
    "tags": [
     "context"
    ]
   },
   "source": [
    "## 5. A bit of makeup: size, color and transparency\n",
    "<p>Our drawing is starting to look like a plant, but we can better. By changing color, transparency (also called <em>alpha</em>), and size of the points, the image will become more appealing.</p>"
   ]
  },
  {
   "cell_type": "code",
   "execution_count": 0,
   "metadata": {
    "dc": {
     "key": "33"
    },
    "tags": [
     "sample_code"
    ]
   },
   "outputs": [],
   "source": [
    "# Change the code from Task 4 to modify the \n",
    "# size, transparency, and color of the points\n",
    "p <- ggplot(df, aes(x*t, y*t))\n",
    "p + # .... YOUR CODE FOR TASK 5 ...."
   ]
  },
  {
   "cell_type": "markdown",
   "metadata": {
    "dc": {
     "key": "40"
    },
    "deletable": false,
    "editable": false,
    "run_control": {
     "frozen": true
    },
    "tags": [
     "context"
    ]
   },
   "source": [
    "## 6. Play with aesthetics: the dandelion\n",
    "<p>Until now, all points have the same appearance (<code>size</code>, <code>color</code>, <code>shape</code>, and <code>alpha</code>). Sometimes we will want to make the appearance of the points dependent on a variable in the dataset. Now we will make the size variable. We will also change the shape of the points. Although we won't be able to blow on it, the resulting image should remind you of a dandelion.</p>"
   ]
  },
  {
   "cell_type": "code",
   "execution_count": 0,
   "metadata": {
    "dc": {
     "key": "40"
    },
    "tags": [
     "sample_code"
    ]
   },
   "outputs": [],
   "source": [
    "# Copy the code from Task 5 and modify the \n",
    "# color, size, and shape of the points\n",
    "p <- ggplot(df, aes(x*t, y*t))\n",
    "p +  ...."
   ]
  },
  {
   "cell_type": "markdown",
   "metadata": {
    "dc": {
     "key": "47"
    },
    "deletable": false,
    "editable": false,
    "run_control": {
     "frozen": true
    },
    "tags": [
     "context"
    ]
   },
   "source": [
    "## 7. Put all it together: the sunflower\n",
    "<p>Plants not only use the Golden Angle to arrange leaves. The Golden Angle is also found in the arrangement of sunflower seeds. We don't need anything new to draw a sunflower; we just need to combine some of the things we already know.</p>"
   ]
  },
  {
   "cell_type": "code",
   "execution_count": 0,
   "metadata": {
    "dc": {
     "key": "47"
    },
    "tags": [
     "sample_code"
    ]
   },
   "outputs": [],
   "source": [
    "# Copy the code from Task 6 and modify the color and\n",
    "# shape of the points, and the background color\n",
    "p <- ggplot(df, aes(x*t, y*t))\n",
    "p +  ...."
   ]
  },
  {
   "cell_type": "markdown",
   "metadata": {
    "dc": {
     "key": "54"
    },
    "deletable": false,
    "editable": false,
    "run_control": {
     "frozen": true
    },
    "tags": [
     "context"
    ]
   },
   "source": [
    "## 8. What if you modify the angle?\n",
    "<p>These patterns are very sensitive to the angle between the points that form the spiral. Small changes to the angle can generate very different images. Let's look at an example of that.</p>"
   ]
  },
  {
   "cell_type": "code",
   "execution_count": 0,
   "metadata": {
    "dc": {
     "key": "54"
    },
    "tags": [
     "sample_code"
    ]
   },
   "outputs": [],
   "source": [
    "# Change the value of the angle\n",
    "angle <- ....\n",
    "points <- 1000\n",
    "\n",
    "t <- (1:points)*angle\n",
    "x <- sin(t)\n",
    "y <- cos(t)\n",
    "df <- data.frame(t, x, y)\n",
    "\n",
    "# Copy the plotting code from Task 7\n",
    "# .... YOUR CODE FOR TASK 8 ...."
   ]
  },
  {
   "cell_type": "markdown",
   "metadata": {
    "dc": {
     "key": "61"
    },
    "deletable": false,
    "editable": false,
    "run_control": {
     "frozen": true
    },
    "tags": [
     "context"
    ]
   },
   "source": [
    "## 9. All together now: imaginary flowers\n",
    "<p><img style=\"float: left;margin:2px 2px 2px 2px\" src=\"https://assets.datacamp.com/production/project_62/img/flower.png\" height=\"280\" width=\"280\"></p>\n",
    "<p>The techniques we've used so far allow us to create an <em>infinite</em> number of patterns inspired by nature: the only limit is our imaginations. But making art has also been a fun excuse to learn to use <code>ggplot2</code>. All the tricks we have seen in this notebook are useful when plotting <em>real</em> data too.</p>\n",
    "<p>The image on the left is a simple variation of the previous flower and is in essence very similar to the first figure in which we plotted 50 points in a circle. I hope you've enjoyed the journey between that simple circle and this beautiful flower.</p>"
   ]
  },
  {
   "cell_type": "code",
   "execution_count": 0,
   "metadata": {
    "dc": {
     "key": "61"
    },
    "tags": [
     "sample_code"
    ]
   },
   "outputs": [],
   "source": [
    "# Change the values of angle and points\n",
    "angle <- ....\n",
    "points <- ....\n",
    "\n",
    "t <- (1:points)*angle\n",
    "x <- sin(t)\n",
    "y <- cos(t)\n",
    "df <- data.frame(t, x, y)\n",
    "\n",
    "# Adjust the plot parameters to create the magenta flower\n",
    "p <- ggplot(df, aes(x*t, y*t))\n",
    "p + geom_point(size = ...., alpha = ...., shape = ...., color = ....)+\n",
    "  theme(legend.position=\"none\",\n",
    "        panel.background = element_rect(fill = ....),\n",
    "        panel.grid=element_blank(),\n",
    "        axis.ticks=element_blank(),\n",
    "        axis.title=element_blank(),\n",
    "        axis.text=element_blank())"
   ]
  }
 ],
 "metadata": {
  "kernelspec": {
   "display_name": "R",
   "language": "R",
   "name": "ir"
  },
  "language_info": {
   "codemirror_mode": "r",
   "file_extension": ".r",
   "mimetype": "text/x-r-source",
   "name": "R",
   "pygments_lexer": "r",
   "version": "3.6.1"
  },
  "toc": {
   "base_numbering": 1,
   "nav_menu": {},
   "number_sections": true,
   "sideBar": true,
   "skip_h1_title": false,
   "title_cell": "Table of Contents",
   "title_sidebar": "Contents",
   "toc_cell": false,
   "toc_position": {},
   "toc_section_display": true,
   "toc_window_display": false
  },
  "varInspector": {
   "cols": {
    "lenName": 16,
    "lenType": 16,
    "lenVar": 40
   },
   "kernels_config": {
    "python": {
     "delete_cmd_postfix": "",
     "delete_cmd_prefix": "del ",
     "library": "var_list.py",
     "varRefreshCmd": "print(var_dic_list())"
    },
    "r": {
     "delete_cmd_postfix": ") ",
     "delete_cmd_prefix": "rm(",
     "library": "var_list.r",
     "varRefreshCmd": "cat(var_dic_list()) "
    }
   },
   "types_to_exclude": [
    "module",
    "function",
    "builtin_function_or_method",
    "instance",
    "_Feature"
   ],
   "window_display": false
  }
 },
 "nbformat": 4,
 "nbformat_minor": 2
}
