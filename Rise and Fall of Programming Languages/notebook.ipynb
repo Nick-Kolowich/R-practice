{
 "cells": [
  {
   "cell_type": "markdown",
   "metadata": {
    "dc": {
     "key": "4"
    },
    "deletable": false,
    "editable": false,
    "run_control": {
     "frozen": true
    },
    "tags": [
     "context"
    ]
   },
   "source": [
    "## 1. Data on tags over time\n",
    "<p>How can we tell what programming languages and technologies are used by the most people? How about what languages are growing and which are shrinking, so that we can tell which are most worth investing time in?</p>\n",
    "<p>One excellent source of data is <a href=\"https://stackoverflow.com/\">Stack Overflow</a>, a programming question and answer site with more than 16 million questions on programming topics. By measuring the number of questions about each technology, we can get an approximate sense of how many people are using it. We're going to use open data from the <a href=\"https://data.stackexchange.com/\">Stack Exchange Data Explorer</a> to examine the relative popularity of languages like R, Python, Java and Javascript have changed over time.</p>\n",
    "<p>Each Stack Overflow question has a <strong>tag</strong>, which marks a question to describe its topic or technology. For instance, there's a tag for languages like <a href=\"https://stackoverflow.com/tags/r\">R</a> or <a href=\"https://stackoverflow.com/tags/python\">Python</a>, and for packages like <a href=\"https://stackoverflow.com/questions/tagged/ggplot2\">ggplot2</a> or <a href=\"https://stackoverflow.com/questions/tagged/pandas\">pandas</a>.</p>\n",
    "<p><img src=\"https://assets.datacamp.com/production/project_435/img/tags.png\" alt=\"Stack Overflow tags\"></p>\n",
    "<p>We'll be working with a dataset with one observation for each tag in each year. The dataset includes both the number of questions asked in that tag in that year, and the total number of questions asked in that year.</p>"
   ]
  },
  {
   "cell_type": "code",
   "execution_count": 1,
   "metadata": {
    "ExecuteTime": {
     "end_time": "2021-03-11T23:20:58.917656Z",
     "start_time": "2021-03-11T23:20:56.893Z"
    },
    "dc": {
     "key": "4"
    },
    "tags": [
     "sample_code"
    ]
   },
   "outputs": [
    {
     "name": "stderr",
     "output_type": "stream",
     "text": [
      "\n",
      "Attaching package: 'dplyr'\n",
      "\n",
      "The following objects are masked from 'package:stats':\n",
      "\n",
      "    filter, lag\n",
      "\n",
      "The following objects are masked from 'package:base':\n",
      "\n",
      "    intersect, setdiff, setequal, union\n",
      "\n",
      "Parsed with column specification:\n",
      "cols(\n",
      "  year = col_double(),\n",
      "  tag = col_character(),\n",
      "  number = col_double(),\n",
      "  year_total = col_double()\n",
      ")\n"
     ]
    },
    {
     "name": "stdout",
     "output_type": "stream",
     "text": [
      "# A tibble: 40,518 x 4\n",
      "    year tag           number year_total\n",
      "   <dbl> <chr>          <dbl>      <dbl>\n",
      " 1  2008 .htaccess         54      58390\n",
      " 2  2008 .net            5910      58390\n",
      " 3  2008 .net-2.0         289      58390\n",
      " 4  2008 .net-3.5         319      58390\n",
      " 5  2008 .net-4.0           6      58390\n",
      " 6  2008 .net-assembly      3      58390\n",
      " 7  2008 .net-core          1      58390\n",
      " 8  2008 2d                42      58390\n",
      " 9  2008 32-bit            19      58390\n",
      "10  2008 32bit-64bit        4      58390\n",
      "# ... with 40,508 more rows\n"
     ]
    }
   ],
   "source": [
    "# Load libraries\n",
    "library(readr)\n",
    "library(dplyr)\n",
    "\n",
    "# Load dataset\n",
    "by_tag_year <- read_csv(\"datasets//by_tag_year.csv\")\n",
    "\n",
    "# Inspect the dataset\n",
    "print(by_tag_year)"
   ]
  },
  {
   "cell_type": "markdown",
   "metadata": {
    "dc": {
     "key": "11"
    },
    "deletable": false,
    "editable": false,
    "run_control": {
     "frozen": true
    },
    "tags": [
     "context"
    ]
   },
   "source": [
    "## 2. Now in fraction format\n",
    "<p>This data has one observation for each pair of a tag and a year, showing the number of questions asked in that tag in that year and the total number of questions asked in that year. For instance, there were 54 questions asked about the <code>.htaccess</code> tag in 2008, out of a total of 58390 questions in that year.</p>\n",
    "<p>Rather than just the counts, we're probably interested in a percentage: the fraction of questions that year that have that tag. So let's add that to the table.</p>"
   ]
  },
  {
   "cell_type": "code",
   "execution_count": 2,
   "metadata": {
    "ExecuteTime": {
     "end_time": "2021-03-11T23:21:40.623657Z",
     "start_time": "2021-03-11T23:21:39.387Z"
    },
    "dc": {
     "key": "11"
    },
    "tags": [
     "sample_code"
    ]
   },
   "outputs": [
    {
     "name": "stdout",
     "output_type": "stream",
     "text": [
      "# A tibble: 40,518 x 5\n",
      "    year tag           number year_total  fraction\n",
      "   <dbl> <chr>          <dbl>      <dbl>     <dbl>\n",
      " 1  2008 .htaccess         54      58390 0.000925 \n",
      " 2  2008 .net            5910      58390 0.101    \n",
      " 3  2008 .net-2.0         289      58390 0.00495  \n",
      " 4  2008 .net-3.5         319      58390 0.00546  \n",
      " 5  2008 .net-4.0           6      58390 0.000103 \n",
      " 6  2008 .net-assembly      3      58390 0.0000514\n",
      " 7  2008 .net-core          1      58390 0.0000171\n",
      " 8  2008 2d                42      58390 0.000719 \n",
      " 9  2008 32-bit            19      58390 0.000325 \n",
      "10  2008 32bit-64bit        4      58390 0.0000685\n",
      "# ... with 40,508 more rows\n"
     ]
    }
   ],
   "source": [
    "# Add fraction column\n",
    "by_tag_year_fraction <- by_tag_year %>%\n",
    "    mutate(fraction = number / year_total)\n",
    "\n",
    "# Print the new table\n",
    "print(by_tag_year_fraction)"
   ]
  },
  {
   "cell_type": "markdown",
   "metadata": {
    "dc": {
     "key": "18"
    },
    "deletable": false,
    "editable": false,
    "run_control": {
     "frozen": true
    },
    "tags": [
     "context"
    ]
   },
   "source": [
    "## 3. Has R been growing or shrinking?\n",
    "<p>So far we've been learning and using the R programming language. Wouldn't we like to be sure it's a good investment for the future? Has it been keeping pace with other languages, or have people been switching out of it?</p>\n",
    "<p>Let's look at whether the fraction of Stack Overflow questions that are about R has been increasing or decreasing over time.</p>"
   ]
  },
  {
   "cell_type": "code",
   "execution_count": 3,
   "metadata": {
    "ExecuteTime": {
     "end_time": "2021-03-11T23:22:11.944656Z",
     "start_time": "2021-03-11T23:22:11.052Z"
    },
    "dc": {
     "key": "18"
    },
    "tags": [
     "sample_code"
    ]
   },
   "outputs": [
    {
     "name": "stdout",
     "output_type": "stream",
     "text": [
      "# A tibble: 40,518 x 5\n",
      "    year tag           number year_total  fraction\n",
      "   <dbl> <chr>          <dbl>      <dbl>     <dbl>\n",
      " 1  2008 .htaccess         54      58390 0.000925 \n",
      " 2  2008 .net            5910      58390 0.101    \n",
      " 3  2008 .net-2.0         289      58390 0.00495  \n",
      " 4  2008 .net-3.5         319      58390 0.00546  \n",
      " 5  2008 .net-4.0           6      58390 0.000103 \n",
      " 6  2008 .net-assembly      3      58390 0.0000514\n",
      " 7  2008 .net-core          1      58390 0.0000171\n",
      " 8  2008 2d                42      58390 0.000719 \n",
      " 9  2008 32-bit            19      58390 0.000325 \n",
      "10  2008 32bit-64bit        4      58390 0.0000685\n",
      "# ... with 40,508 more rows\n"
     ]
    }
   ],
   "source": [
    "# Filter for R tags\n",
    "r_over_time <- by_tag_year_fraction %>%\n",
    "# Print the new table\n",
    "print(r_over_time)"
   ]
  },
  {
   "cell_type": "markdown",
   "metadata": {
    "dc": {
     "key": "25"
    },
    "deletable": false,
    "editable": false,
    "run_control": {
     "frozen": true
    },
    "tags": [
     "context"
    ]
   },
   "source": [
    "## 4. Visualizing change over time\n",
    "<p>Rather than looking at the results in a table, we often want to create a visualization. Change over time is usually visualized with a line plot.</p>"
   ]
  },
  {
   "cell_type": "code",
   "execution_count": 4,
   "metadata": {
    "ExecuteTime": {
     "end_time": "2021-03-11T23:24:17.577291Z",
     "start_time": "2021-03-11T23:24:16.264Z"
    },
    "dc": {
     "key": "25"
    },
    "tags": [
     "sample_code"
    ]
   },
   "outputs": [
    {
     "name": "stderr",
     "output_type": "stream",
     "text": [
      "Registered S3 methods overwritten by 'ggplot2':\n",
      "  method         from \n",
      "  [.quosures     rlang\n",
      "  c.quosures     rlang\n",
      "  print.quosures rlang\n"
     ]
    },
    {
     "data": {
      "image/png": "[encoded data removed]",
      "text/plain": [
       "plot without title"
      ]
     },
     "metadata": {},
     "output_type": "display_data"
    }
   ],
   "source": [
    "# Load ggplot2\n",
    "library(ggplot2)\n",
    "# Create a line plot of fraction over time\n",
    "ggplot(r_over_time) + geom_line(aes(x = year, y = fraction))"
   ]
  },
  {
   "cell_type": "markdown",
   "metadata": {
    "dc": {
     "key": "32"
    },
    "deletable": false,
    "editable": false,
    "run_control": {
     "frozen": true
    },
    "tags": [
     "context"
    ]
   },
   "source": [
    "## 5. How about dplyr and ggplot2?\n",
    "<p>Based on that graph, it looks like R has been growing pretty fast in the last decade. Good thing we're practicing it now!</p>\n",
    "<p>Besides R, two other interesting tags are dplyr and ggplot2, which we've already used in this analysis. They both also have Stack Overflow tags!</p>\n",
    "<p>Instead of just looking at R, let's look at all three tags and their change over time. Are each of those tags increasing as a fraction of overall questions? Are any of them decreasing?</p>"
   ]
  },
  {
   "cell_type": "code",
   "execution_count": 5,
   "metadata": {
    "ExecuteTime": {
     "end_time": "2021-03-11T23:26:50.558469Z",
     "start_time": "2021-03-11T23:26:50.287Z"
    },
    "dc": {
     "key": "32"
    },
    "tags": [
     "sample_code"
    ]
   },
   "outputs": [
    {
     "data": {
      "image/png": "[encoded data removed]",
      "text/plain": [
       "plot without title"
      ]
     },
     "metadata": {},
     "output_type": "display_data"
    }
   ],
   "source": [
    "# A vector of selected tags\n",
    "selected_tags <- c(\"r\", \"dplyr\", \"ggplot2\")\n",
    "\n",
    "# Filter for those tags\n",
    "selected_tags_over_time <- by_tag_year_fraction %>%\n",
    "    filter(tag %in% selected_tags)\n",
    "\n",
    "# Plot tags over time on a line plot using color to represent tag\n",
    "ggplot(selected_tags_over_time, aes(x = year, y= fraction, color = tag)) + geom_line()"
   ]
  },
  {
   "cell_type": "markdown",
   "metadata": {
    "dc": {
     "key": "39"
    },
    "deletable": false,
    "editable": false,
    "run_control": {
     "frozen": true
    },
    "tags": [
     "context"
    ]
   },
   "source": [
    "## 6. What are the most asked-about tags?\n",
    "<p>It's sure been fun to visualize and compare tags over time. The dplyr and ggplot2 tags may not have as many questions as R, but we can tell they're both growing quickly as well.</p>\n",
    "<p>We might like to know which tags have the most questions <em>overall</em>, not just within a particular year. Right now, we have several rows for every tag, but we'll be combining them into one. That means we want <code>group_by()</code> and <code>summarize()</code>.</p>\n",
    "<p>Let's look at tags that have the most questions in history.</p>"
   ]
  },
  {
   "cell_type": "code",
   "execution_count": 0,
   "metadata": {
    "dc": {
     "key": "39"
    },
    "tags": [
     "sample_code"
    ]
   },
   "outputs": [],
   "source": [
    "# Find total number of questions for each tag\n",
    "sorted_tags <- by_tag_year %>%\n",
    "    group_by(tag) %>%\n",
    "    summarize(tag_total = sum(number)) %>%\n",
    "    \n",
    "\n",
    "# Print the new table\n",
    "# .... YOUR CODE FOR TASK 6"
   ]
  },
  {
   "cell_type": "markdown",
   "metadata": {
    "dc": {
     "key": "46"
    },
    "deletable": false,
    "editable": false,
    "run_control": {
     "frozen": true
    },
    "tags": [
     "context"
    ]
   },
   "source": [
    "## 7. How have large programming languages changed over time?\n",
    "<p>We've looked at selected tags like R, ggplot2, and dplyr, and seen that they're each growing. What tags might be <em>shrinking</em>? A good place to start is to plot the tags that we just saw that were the most-asked about of all time, including JavaScript, Java and C#.</p>"
   ]
  },
  {
   "cell_type": "code",
   "execution_count": 0,
   "metadata": {
    "dc": {
     "key": "46"
    },
    "tags": [
     "sample_code"
    ]
   },
   "outputs": [],
   "source": [
    "# Get the six largest tags\n",
    "highest_tags <- head(sorted_tags$tag)\n",
    "\n",
    "# Filter for the six largest tags\n",
    "by_tag_subset <- ....\n",
    "\n",
    "# Plot tags over time on a line plot using color to represent tag\n",
    "# .... YOUR CODE FOR TASK 7 ...."
   ]
  },
  {
   "cell_type": "markdown",
   "metadata": {
    "dc": {
     "key": "53"
    },
    "deletable": false,
    "editable": false,
    "run_control": {
     "frozen": true
    },
    "tags": [
     "context"
    ]
   },
   "source": [
    "## 8. Some more tags!\n",
    "<p>Wow, based on that graph we've seen a lot of changes in what programming languages are most asked about. C# gets fewer questions than it used to, and Python has grown quite impressively.</p>\n",
    "<p>This Stack Overflow data is incredibly versatile. We can analyze <em>any</em> programming language, web framework, or tool where we'd like to see their change over time. Combined with the reproducibility of R and its libraries, we have ourselves a powerful method of uncovering insights about technology.</p>\n",
    "<p>To demonstrate its versatility, let's check out how three big mobile operating systems (Android, iOS, and Windows Phone) have compared in popularity over time. But remember: this code can be modified simply by changing the tag names!</p>"
   ]
  },
  {
   "cell_type": "code",
   "execution_count": 0,
   "metadata": {
    "dc": {
     "key": "53"
    },
    "tags": [
     "sample_code"
    ]
   },
   "outputs": [],
   "source": [
    "# Get tags of interest\n",
    "my_tags <- ....\n",
    "\n",
    "# Filter for those tags\n",
    "by_tag_subset <- ....\n",
    "\n",
    "# Plot tags over time on a line plot using color to represent tag\n",
    "# .... YOUR CODE FOR TASK 8 ...."
   ]
  }
 ],
 "metadata": {
  "kernelspec": {
   "display_name": "R",
   "language": "R",
   "name": "ir"
  },
  "language_info": {
   "codemirror_mode": "r",
   "file_extension": ".r",
   "mimetype": "text/x-r-source",
   "name": "R",
   "pygments_lexer": "r",
   "version": "3.6.1"
  },
  "toc": {
   "base_numbering": 1,
   "nav_menu": {},
   "number_sections": true,
   "sideBar": true,
   "skip_h1_title": false,
   "title_cell": "Table of Contents",
   "title_sidebar": "Contents",
   "toc_cell": false,
   "toc_position": {},
   "toc_section_display": true,
   "toc_window_display": false
  },
  "varInspector": {
   "cols": {
    "lenName": 16,
    "lenType": 16,
    "lenVar": 40
   },
   "kernels_config": {
    "python": {
     "delete_cmd_postfix": "",
     "delete_cmd_prefix": "del ",
     "library": "var_list.py",
     "varRefreshCmd": "print(var_dic_list())"
    },
    "r": {
     "delete_cmd_postfix": ") ",
     "delete_cmd_prefix": "rm(",
     "library": "var_list.r",
     "varRefreshCmd": "cat(var_dic_list()) "
    }
   },
   "types_to_exclude": [
    "module",
    "function",
    "builtin_function_or_method",
    "instance",
    "_Feature"
   ],
   "window_display": false
  }
 },
 "nbformat": 4,
 "nbformat_minor": 2
}
